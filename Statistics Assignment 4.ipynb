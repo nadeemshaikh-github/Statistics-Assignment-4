{
 "cells": [
  {
   "cell_type": "markdown",
   "metadata": {},
   "source": [
    "# Statistics Assignment 4"
   ]
  },
  {
   "cell_type": "code",
   "execution_count": 1,
   "metadata": {},
   "outputs": [],
   "source": [
    "import numpy as np\n",
    "import pandas as pd\n",
    "import scipy.stats as stats"
   ]
  },
  {
   "cell_type": "markdown",
   "metadata": {},
   "source": [
    "## Problem Statement 1:\n",
    "\n",
    "**Is gender independent of education level?** \n",
    "\n",
    "**A random sample of 395 people were surveyed and each person was asked to report the highest education level they obtained.** \n",
    "\n",
    "**The data that resulted from the survey is summarized in the following table:**"
   ]
  },
  {
   "cell_type": "raw",
   "metadata": {},
   "source": [
    "         High School  Bachelors   Masters  Ph.d    Total\n",
    "Female       60          54          46      41     201\n",
    "Male         40          44          53      57     194\n",
    "Total        100         98          99      98     395"
   ]
  },
  {
   "cell_type": "markdown",
   "metadata": {},
   "source": [
    "**Question: Are gender and education level dependent at 5% level of significance?** \n",
    "\n",
    "**In other words, given the data collected above, is there a relationship between the gender of an individual and the level of education that they have obtained?**"
   ]
  },
  {
   "cell_type": "markdown",
   "metadata": {},
   "source": [
    "***Null Hypothesis H0: Gender and education level are independent.***\n",
    "\n",
    "***Alternative Hypothesis H1: Gender and education level are dependent.***"
   ]
  },
  {
   "cell_type": "code",
   "execution_count": 20,
   "metadata": {},
   "outputs": [
    {
     "name": "stdout",
     "output_type": "stream",
     "text": [
      "Null Hypothesis is rejected (Gender and education level are dependent)\n"
     ]
    }
   ],
   "source": [
    "#We use chi-square test for independence with the help of the above data.\n",
    "alpha = 0.05\n",
    "chi2,p,dof,expected = stats.chi2_contingency([[60,54,46,41],[40,44,53,57]])\n",
    "df = pd.DataFrame(np.array([[60,54,46,41],expected[0],[40,44,53,57],expected[1]]),columns=['High School','Bachelors','Masters','Ph.d'],index=['Female','Exp_Female','Male','Exp_male'])\n",
    "if p<alpha:\n",
    "    print('Null Hypothesis is rejected (Gender and education level are dependent)')\n",
    "else:\n",
    "    print('Null Hypothesis is accepted (Gender and education level are independent)')"
   ]
  },
  {
   "cell_type": "code",
   "execution_count": 21,
   "metadata": {},
   "outputs": [
    {
     "data": {
      "text/html": [
       "<div>\n",
       "<style scoped>\n",
       "    .dataframe tbody tr th:only-of-type {\n",
       "        vertical-align: middle;\n",
       "    }\n",
       "\n",
       "    .dataframe tbody tr th {\n",
       "        vertical-align: top;\n",
       "    }\n",
       "\n",
       "    .dataframe thead th {\n",
       "        text-align: right;\n",
       "    }\n",
       "</style>\n",
       "<table border=\"1\" class=\"dataframe\">\n",
       "  <thead>\n",
       "    <tr style=\"text-align: right;\">\n",
       "      <th></th>\n",
       "      <th>High School</th>\n",
       "      <th>Bachelors</th>\n",
       "      <th>Masters</th>\n",
       "      <th>Ph.d</th>\n",
       "    </tr>\n",
       "  </thead>\n",
       "  <tbody>\n",
       "    <tr>\n",
       "      <th>Female</th>\n",
       "      <td>60.000000</td>\n",
       "      <td>54.000000</td>\n",
       "      <td>46.000000</td>\n",
       "      <td>41.000000</td>\n",
       "    </tr>\n",
       "    <tr>\n",
       "      <th>Exp_Female</th>\n",
       "      <td>50.886076</td>\n",
       "      <td>49.868354</td>\n",
       "      <td>50.377215</td>\n",
       "      <td>49.868354</td>\n",
       "    </tr>\n",
       "    <tr>\n",
       "      <th>Male</th>\n",
       "      <td>40.000000</td>\n",
       "      <td>44.000000</td>\n",
       "      <td>53.000000</td>\n",
       "      <td>57.000000</td>\n",
       "    </tr>\n",
       "    <tr>\n",
       "      <th>Exp_male</th>\n",
       "      <td>49.113924</td>\n",
       "      <td>48.131646</td>\n",
       "      <td>48.622785</td>\n",
       "      <td>48.131646</td>\n",
       "    </tr>\n",
       "  </tbody>\n",
       "</table>\n",
       "</div>"
      ],
      "text/plain": [
       "            High School  Bachelors    Masters       Ph.d\n",
       "Female        60.000000  54.000000  46.000000  41.000000\n",
       "Exp_Female    50.886076  49.868354  50.377215  49.868354\n",
       "Male          40.000000  44.000000  53.000000  57.000000\n",
       "Exp_male      49.113924  48.131646  48.622785  48.131646"
      ]
     },
     "execution_count": 21,
     "metadata": {},
     "output_type": "execute_result"
    }
   ],
   "source": [
    "#Contingency Table\n",
    "df"
   ]
  },
  {
   "cell_type": "markdown",
   "metadata": {},
   "source": [
    "____"
   ]
  },
  {
   "cell_type": "markdown",
   "metadata": {},
   "source": [
    "## Problem Statement 2:\n",
    "\n",
    "**Using the following data, perform a oneway analysis of variance using α=.05.** \n",
    "\n",
    "**Write up the results in APA format.**\n",
    "\n",
    "**[Group1: 51, 45, 33, 45, 67]**\n",
    "\n",
    "**[Group2: 23, 43, 23, 43, 45]**\n",
    "\n",
    "**[Group3: 56, 76, 74, 87, 56]**"
   ]
  },
  {
   "cell_type": "markdown",
   "metadata": {},
   "source": [
    "***Null Hypothesis H0: mean1=mean2=mean3***\n",
    "    \n",
    "***Alternative Hypothesis H1: mean1!=mean2!=mean3***"
   ]
  },
  {
   "cell_type": "code",
   "execution_count": 25,
   "metadata": {},
   "outputs": [],
   "source": [
    "alpha = 0.05\n",
    "group1 = [51,45,33,45,67]\n",
    "group2 = [23,43,23,43,45]\n",
    "group3 = [56,76,74,87,56]"
   ]
  },
  {
   "cell_type": "code",
   "execution_count": 41,
   "metadata": {},
   "outputs": [
    {
     "name": "stdout",
     "output_type": "stream",
     "text": [
      "F-value is : 9.747205503009457\n",
      "p-value is : 0.003059754143443061\n",
      "Null Hypothesis is rejected(mean1!=mean2!=mean3)\n"
     ]
    }
   ],
   "source": [
    "#Performing ANOVA without the pre-built function\n",
    "#ssw -- Sum of the squares within the samples\n",
    "#ssb -- sum of the squares between the samples\n",
    "grand_mean = np.mean([np.mean(group1),np.mean(group2),np.mean(group3)])\n",
    "group1_dev = np.sum([(i-np.mean(group1))**2 for i in group1])\n",
    "group2_dev = np.sum([(i-np.mean(group2))**2 for i in group2])\n",
    "group3_dev = np.sum([(i-np.mean(group3))**2 for i in group3])\n",
    "ssw = np.sum([group1_dev,group2_dev,group3_dev])\n",
    "ssw_mean = ssw/12\n",
    "ssb = np.sum([(np.mean(group1)-grand_mean)**2,(np.mean(group2)-grand_mean)**2,(np.mean(group3)-grand_mean)**2])*5\n",
    "ssb_mean = ssb/2\n",
    "f_stat = ssb_mean/ssw_mean\n",
    "p = 1-stats.f.cdf(f_stat,dfn=2,dfd=12)\n",
    "print('F-value is :',f_stat)\n",
    "print('p-value is :',p)\n",
    "if p<alpha:\n",
    "    print('Null Hypothesis is rejected(mean1!=mean2!=mean3)')\n",
    "else:\n",
    "    print('Null Hypothesis is accepted(mean1=mean2=mean3)')"
   ]
  },
  {
   "cell_type": "code",
   "execution_count": 53,
   "metadata": {},
   "outputs": [
    {
     "name": "stdout",
     "output_type": "stream",
     "text": [
      "F-value is : 9.747205503009463\n",
      "p-value is : 0.0030597541434430556\n",
      "Null Hypothesis is rejected(mean1!=mean2!=mean3)\n"
     ]
    }
   ],
   "source": [
    "#Performing ANOVA using scipy.stats.f_oneway function\n",
    "f,p=stats.f_oneway(group1,group2,group3)\n",
    "print('F-value is :', f)\n",
    "print('p-value is :', p)\n",
    "if p<alpha:\n",
    "    print('Null Hypothesis is rejected(mean1!=mean2!=mean3)')\n",
    "else:\n",
    "    print('Null Hypothesis is accepted(mean1=mean2=mean3)')"
   ]
  },
  {
   "cell_type": "markdown",
   "metadata": {},
   "source": [
    "____"
   ]
  },
  {
   "cell_type": "markdown",
   "metadata": {},
   "source": [
    "## Problem Statement 3:\n",
    "\n",
    "**Calculate F Test for given 10, 20, 30, 40, 50 and 5, 10, 15, 20, 25.**"
   ]
  },
  {
   "cell_type": "code",
   "execution_count": 57,
   "metadata": {},
   "outputs": [
    {
     "name": "stdout",
     "output_type": "stream",
     "text": [
      "F-value is : 3.6\n",
      "p-value is : 0.0943497728424377\n"
     ]
    }
   ],
   "source": [
    "s1 = [10, 20, 30, 40 ,50]\n",
    "s2 = [5, 10 , 15, 20, 25]\n",
    "f,p = stats.f_oneway(s1,s2)\n",
    "print('F-value is :',f)\n",
    "print('p-value is :',p)"
   ]
  }
 ],
 "metadata": {
  "kernelspec": {
   "display_name": "Python 3",
   "language": "python",
   "name": "python3"
  },
  "language_info": {
   "codemirror_mode": {
    "name": "ipython",
    "version": 3
   },
   "file_extension": ".py",
   "mimetype": "text/x-python",
   "name": "python",
   "nbconvert_exporter": "python",
   "pygments_lexer": "ipython3",
   "version": "3.8.3"
  }
 },
 "nbformat": 4,
 "nbformat_minor": 4
}
